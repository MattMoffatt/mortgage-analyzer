{
 "cells": [
  {
   "cell_type": "code",
   "execution_count": 1,
   "metadata": {},
   "outputs": [],
   "source": [
    "import sys\n",
    "from pathlib import Path\n",
    "\n",
    "import pandas as pd\n",
    "import altair as alt\n",
    "import streamlit as st\n",
    "\n",
    "project_root = Path.cwd().parent"
   ]
  },
  {
   "cell_type": "code",
   "execution_count": 2,
   "metadata": {},
   "outputs": [],
   "source": [
    "sys.path.append(str(project_root))"
   ]
  },
  {
   "cell_type": "code",
   "execution_count": 3,
   "metadata": {},
   "outputs": [],
   "source": [
    "from src.models.mortgage_classes import CurrentMortgage, NewMortgageScenario"
   ]
  },
  {
   "cell_type": "code",
   "execution_count": 4,
   "metadata": {},
   "outputs": [],
   "source": [
    "currentMort =CurrentMortgage(\n",
    "    _rate=3.75,\n",
    "     _years=30, \n",
    "     _tax=2600.0, \n",
    "     _ins=2400.0, \n",
    "     _sqft=1317.0, \n",
    "     _extra_principal=0.0, \n",
    "     _prepay_periods=0, \n",
    "     _original_loan=190000.0, \n",
    "     _loan_amount=170000.0, \n",
    "     _start_date='02/07/2022', \n",
    "     _price_per_sqft=169.0, \n",
    "     _monthly_pmi=34.0, \n",
    "     _total_pmt=1390.2\n",
    "     )"
   ]
  },
  {
   "cell_type": "code",
   "execution_count": 5,
   "metadata": {},
   "outputs": [],
   "source": [
    "df = currentMort.amortization_schedule()"
   ]
  },
  {
   "cell_type": "code",
   "execution_count": 6,
   "metadata": {},
   "outputs": [
    {
     "data": {
      "text/html": [
       "<div>\n",
       "<style scoped>\n",
       "    .dataframe tbody tr th:only-of-type {\n",
       "        vertical-align: middle;\n",
       "    }\n",
       "\n",
       "    .dataframe tbody tr th {\n",
       "        vertical-align: top;\n",
       "    }\n",
       "\n",
       "    .dataframe thead th {\n",
       "        text-align: right;\n",
       "    }\n",
       "</style>\n",
       "<table border=\"1\" class=\"dataframe\">\n",
       "  <thead>\n",
       "    <tr style=\"text-align: right;\">\n",
       "      <th></th>\n",
       "      <th>month</th>\n",
       "      <th>payment</th>\n",
       "      <th>principal</th>\n",
       "      <th>interest</th>\n",
       "      <th>principal_paydown</th>\n",
       "      <th>balance</th>\n",
       "    </tr>\n",
       "  </thead>\n",
       "  <tbody>\n",
       "    <tr>\n",
       "      <th>0</th>\n",
       "      <td>1</td>\n",
       "      <td>836.64</td>\n",
       "      <td>305.39</td>\n",
       "      <td>531.25</td>\n",
       "      <td>0.0</td>\n",
       "      <td>169694.61</td>\n",
       "    </tr>\n",
       "    <tr>\n",
       "      <th>1</th>\n",
       "      <td>2</td>\n",
       "      <td>836.64</td>\n",
       "      <td>306.35</td>\n",
       "      <td>530.30</td>\n",
       "      <td>0.0</td>\n",
       "      <td>169388.26</td>\n",
       "    </tr>\n",
       "    <tr>\n",
       "      <th>2</th>\n",
       "      <td>3</td>\n",
       "      <td>836.64</td>\n",
       "      <td>307.30</td>\n",
       "      <td>529.34</td>\n",
       "      <td>0.0</td>\n",
       "      <td>169080.96</td>\n",
       "    </tr>\n",
       "    <tr>\n",
       "      <th>3</th>\n",
       "      <td>4</td>\n",
       "      <td>836.64</td>\n",
       "      <td>308.26</td>\n",
       "      <td>528.38</td>\n",
       "      <td>0.0</td>\n",
       "      <td>168772.70</td>\n",
       "    </tr>\n",
       "    <tr>\n",
       "      <th>4</th>\n",
       "      <td>5</td>\n",
       "      <td>836.64</td>\n",
       "      <td>309.23</td>\n",
       "      <td>527.41</td>\n",
       "      <td>0.0</td>\n",
       "      <td>168463.47</td>\n",
       "    </tr>\n",
       "    <tr>\n",
       "      <th>...</th>\n",
       "      <td>...</td>\n",
       "      <td>...</td>\n",
       "      <td>...</td>\n",
       "      <td>...</td>\n",
       "      <td>...</td>\n",
       "      <td>...</td>\n",
       "    </tr>\n",
       "    <tr>\n",
       "      <th>318</th>\n",
       "      <td>319</td>\n",
       "      <td>836.64</td>\n",
       "      <td>823.69</td>\n",
       "      <td>12.95</td>\n",
       "      <td>0.0</td>\n",
       "      <td>3320.58</td>\n",
       "    </tr>\n",
       "    <tr>\n",
       "      <th>319</th>\n",
       "      <td>320</td>\n",
       "      <td>836.64</td>\n",
       "      <td>826.26</td>\n",
       "      <td>10.38</td>\n",
       "      <td>0.0</td>\n",
       "      <td>2494.32</td>\n",
       "    </tr>\n",
       "    <tr>\n",
       "      <th>320</th>\n",
       "      <td>321</td>\n",
       "      <td>836.64</td>\n",
       "      <td>828.85</td>\n",
       "      <td>7.79</td>\n",
       "      <td>0.0</td>\n",
       "      <td>1665.47</td>\n",
       "    </tr>\n",
       "    <tr>\n",
       "      <th>321</th>\n",
       "      <td>322</td>\n",
       "      <td>836.64</td>\n",
       "      <td>831.44</td>\n",
       "      <td>5.20</td>\n",
       "      <td>0.0</td>\n",
       "      <td>834.04</td>\n",
       "    </tr>\n",
       "    <tr>\n",
       "      <th>322</th>\n",
       "      <td>323</td>\n",
       "      <td>836.64</td>\n",
       "      <td>834.04</td>\n",
       "      <td>2.61</td>\n",
       "      <td>0.0</td>\n",
       "      <td>0.00</td>\n",
       "    </tr>\n",
       "  </tbody>\n",
       "</table>\n",
       "<p>323 rows × 6 columns</p>\n",
       "</div>"
      ],
      "text/plain": [
       "     month  payment  principal  interest  principal_paydown    balance\n",
       "0        1   836.64     305.39    531.25                0.0  169694.61\n",
       "1        2   836.64     306.35    530.30                0.0  169388.26\n",
       "2        3   836.64     307.30    529.34                0.0  169080.96\n",
       "3        4   836.64     308.26    528.38                0.0  168772.70\n",
       "4        5   836.64     309.23    527.41                0.0  168463.47\n",
       "..     ...      ...        ...       ...                ...        ...\n",
       "318    319   836.64     823.69     12.95                0.0    3320.58\n",
       "319    320   836.64     826.26     10.38                0.0    2494.32\n",
       "320    321   836.64     828.85      7.79                0.0    1665.47\n",
       "321    322   836.64     831.44      5.20                0.0     834.04\n",
       "322    323   836.64     834.04      2.61                0.0       0.00\n",
       "\n",
       "[323 rows x 6 columns]"
      ]
     },
     "execution_count": 6,
     "metadata": {},
     "output_type": "execute_result"
    }
   ],
   "source": [
    "df"
   ]
  },
  {
   "cell_type": "code",
   "execution_count": null,
   "metadata": {},
   "outputs": [],
   "source": [
    "chart = alt.Chart(df)"
   ]
  },
  {
   "cell_type": "code",
   "execution_count": null,
   "metadata": {},
   "outputs": [
    {
     "name": "stderr",
     "output_type": "stream",
     "text": [
      "/Users/mmoffatt/Documents/Projects/python/mortgage-project/mortgage-venv/lib/python3.13/site-packages/altair/vegalite/v5/api.py:295: UserWarning: data of type <class 'pandas.core.series.Series'> not recognized\n",
      "  warnings.warn(f\"data of type {type(data)} not recognized\", stacklevel=1)\n"
     ]
    },
    {
     "ename": "ValueError",
     "evalue": "month encoding field is specified without a type; the type cannot be automatically inferred because the data is not specified as a pandas.DataFrame.",
     "output_type": "error",
     "traceback": [
      "\u001b[31m---------------------------------------------------------------------------\u001b[39m",
      "\u001b[31mValueError\u001b[39m                                Traceback (most recent call last)",
      "\u001b[32m~/Documents/Projects/python/mortgage-project/mortgage-venv/lib/python3.13/site-packages/altair/vegalite/v5/api.py\u001b[39m in \u001b[36m?\u001b[39m\u001b[34m(self, *args, **kwds)\u001b[39m\n\u001b[32m   3674\u001b[39m         \u001b[38;5;66;03m# see https://github.com/ipython/ipython/issues/11038\u001b[39;00m\n\u001b[32m   3675\u001b[39m         \u001b[38;5;28;01mtry\u001b[39;00m:\n\u001b[32m   3676\u001b[39m             dct = self.to_dict(context={\u001b[33m\"pre_transform\"\u001b[39m: \u001b[38;5;28;01mFalse\u001b[39;00m})\n\u001b[32m   3677\u001b[39m         \u001b[38;5;28;01mexcept\u001b[39;00m Exception:\n\u001b[32m-> \u001b[39m\u001b[32m3678\u001b[39m             utils.display_traceback(in_ipython=\u001b[38;5;28;01mTrue\u001b[39;00m)\n\u001b[32m   3679\u001b[39m             \u001b[38;5;28;01mreturn\u001b[39;00m {}\n\u001b[32m   3680\u001b[39m         \u001b[38;5;28;01melse\u001b[39;00m:\n\u001b[32m   3681\u001b[39m             \u001b[38;5;28;01mif\u001b[39;00m renderer := renderers.get():\n",
      "\u001b[32m~/Documents/Projects/python/mortgage-project/mortgage-venv/lib/python3.13/site-packages/altair/vegalite/v5/api.py\u001b[39m in \u001b[36m?\u001b[39m\u001b[34m(self, validate, format, ignore, context)\u001b[39m\n\u001b[32m   4029\u001b[39m             \u001b[38;5;66;03m# for easier specification of datum encodings.\u001b[39;00m\n\u001b[32m   4030\u001b[39m             copy = self.copy(deep=\u001b[38;5;28;01mFalse\u001b[39;00m)\n\u001b[32m   4031\u001b[39m             copy.data = core.InlineData(values=[{}])\n\u001b[32m   4032\u001b[39m             \u001b[38;5;28;01mreturn\u001b[39;00m super(Chart, copy).to_dict(**kwds)\n\u001b[32m-> \u001b[39m\u001b[32m4033\u001b[39m         \u001b[38;5;28;01mreturn\u001b[39;00m super().to_dict(**kwds)\n",
      "\u001b[32m~/Documents/Projects/python/mortgage-project/mortgage-venv/lib/python3.13/site-packages/altair/vegalite/v5/api.py\u001b[39m in \u001b[36m?\u001b[39m\u001b[34m(self, validate, format, ignore, context)\u001b[39m\n\u001b[32m   2000\u001b[39m \n\u001b[32m   2001\u001b[39m         \u001b[38;5;66;03m# remaining to_dict calls are not at top level\u001b[39;00m\n\u001b[32m   2002\u001b[39m         context[\u001b[33m\"top_level\"\u001b[39m] = \u001b[38;5;28;01mFalse\u001b[39;00m\n\u001b[32m   2003\u001b[39m \n\u001b[32m-> \u001b[39m\u001b[32m2004\u001b[39m         vegalite_spec: Any = _top_schema_base(super(TopLevelMixin, copy)).to_dict(\n\u001b[32m   2005\u001b[39m             validate=validate, ignore=ignore, context=dict(context, pre_transform=\u001b[38;5;28;01mFalse\u001b[39;00m)\n\u001b[32m   2006\u001b[39m         )\n\u001b[32m   2007\u001b[39m \n",
      "\u001b[32m~/Documents/Projects/python/mortgage-project/mortgage-venv/lib/python3.13/site-packages/altair/utils/schemapi.py\u001b[39m in \u001b[36m?\u001b[39m\u001b[34m(self, validate, ignore, context)\u001b[39m\n\u001b[32m   1159\u001b[39m                 kwds[\u001b[33m\"mark\"\u001b[39m] = {\u001b[33m\"type\"\u001b[39m: mark}\n\u001b[32m   1160\u001b[39m         \u001b[38;5;28;01melse\u001b[39;00m:\n\u001b[32m   1161\u001b[39m             msg = f\"{type(self)} instance has both a value and properties : cannot serialize to dict\"\n\u001b[32m   1162\u001b[39m             \u001b[38;5;28;01mraise\u001b[39;00m ValueError(msg)\n\u001b[32m-> \u001b[39m\u001b[32m1163\u001b[39m         result = _todict(kwds, context=context, **opts)\n\u001b[32m   1164\u001b[39m         \u001b[38;5;28;01mif\u001b[39;00m validate:\n\u001b[32m   1165\u001b[39m             \u001b[38;5;66;03m# NOTE: Don't raise `from err`, see `SchemaValidationError` doc\u001b[39;00m\n\u001b[32m   1166\u001b[39m             \u001b[38;5;28;01mtry\u001b[39;00m:\n",
      "\u001b[32m~/Documents/Projects/python/mortgage-project/mortgage-venv/lib/python3.13/site-packages/altair/utils/schemapi.py\u001b[39m in \u001b[36m?\u001b[39m\u001b[34m(obj, context, np_opt, pd_opt)\u001b[39m\n\u001b[32m    549\u001b[39m         \u001b[38;5;28;01mreturn\u001b[39;00m obj.to_dict(validate=\u001b[38;5;28;01mFalse\u001b[39;00m, context=context)\n\u001b[32m    550\u001b[39m     \u001b[38;5;28;01melif\u001b[39;00m isinstance(obj, (list, tuple)):\n\u001b[32m    551\u001b[39m         \u001b[38;5;28;01mreturn\u001b[39;00m [_todict(v, context, np_opt, pd_opt) \u001b[38;5;28;01mfor\u001b[39;00m v \u001b[38;5;28;01min\u001b[39;00m obj]\n\u001b[32m    552\u001b[39m     \u001b[38;5;28;01melif\u001b[39;00m isinstance(obj, dict):\n\u001b[32m--> \u001b[39m\u001b[32m553\u001b[39m         return {\n\u001b[32m    554\u001b[39m             k: _todict(v, context, np_opt, pd_opt)\n\u001b[32m    555\u001b[39m             \u001b[38;5;28;01mfor\u001b[39;00m k, v \u001b[38;5;28;01min\u001b[39;00m obj.items()\n\u001b[32m    556\u001b[39m             \u001b[38;5;28;01mif\u001b[39;00m v \u001b[38;5;28;01mis\u001b[39;00m \u001b[38;5;28;01mnot\u001b[39;00m Undefined\n",
      "\u001b[32m~/Documents/Projects/python/mortgage-project/mortgage-venv/lib/python3.13/site-packages/altair/utils/schemapi.py\u001b[39m in \u001b[36m?\u001b[39m\u001b[34m(obj, context, np_opt, pd_opt)\u001b[39m\n\u001b[32m    545\u001b[39m                 \u001b[38;5;66;03m# See https://github.com/vega/altair/issues/1027 for why this is necessary.\u001b[39;00m\n\u001b[32m    546\u001b[39m                 result += \u001b[33m\"T00:00:00\"\u001b[39m\n\u001b[32m    547\u001b[39m             \u001b[38;5;28;01mreturn\u001b[39;00m result\n\u001b[32m    548\u001b[39m     \u001b[38;5;28;01mif\u001b[39;00m isinstance(obj, SchemaBase):\n\u001b[32m--> \u001b[39m\u001b[32m549\u001b[39m         \u001b[38;5;28;01mreturn\u001b[39;00m obj.to_dict(validate=\u001b[38;5;28;01mFalse\u001b[39;00m, context=context)\n\u001b[32m    550\u001b[39m     \u001b[38;5;28;01melif\u001b[39;00m isinstance(obj, (list, tuple)):\n\u001b[32m    551\u001b[39m         \u001b[38;5;28;01mreturn\u001b[39;00m [_todict(v, context, np_opt, pd_opt) \u001b[38;5;28;01mfor\u001b[39;00m v \u001b[38;5;28;01min\u001b[39;00m obj]\n\u001b[32m    552\u001b[39m     \u001b[38;5;28;01melif\u001b[39;00m isinstance(obj, dict):\n",
      "\u001b[32m~/Documents/Projects/python/mortgage-project/mortgage-venv/lib/python3.13/site-packages/altair/utils/schemapi.py\u001b[39m in \u001b[36m?\u001b[39m\u001b[34m(self, validate, ignore, context)\u001b[39m\n\u001b[32m   1159\u001b[39m                 kwds[\u001b[33m\"mark\"\u001b[39m] = {\u001b[33m\"type\"\u001b[39m: mark}\n\u001b[32m   1160\u001b[39m         \u001b[38;5;28;01melse\u001b[39;00m:\n\u001b[32m   1161\u001b[39m             msg = f\"{type(self)} instance has both a value and properties : cannot serialize to dict\"\n\u001b[32m   1162\u001b[39m             \u001b[38;5;28;01mraise\u001b[39;00m ValueError(msg)\n\u001b[32m-> \u001b[39m\u001b[32m1163\u001b[39m         result = _todict(kwds, context=context, **opts)\n\u001b[32m   1164\u001b[39m         \u001b[38;5;28;01mif\u001b[39;00m validate:\n\u001b[32m   1165\u001b[39m             \u001b[38;5;66;03m# NOTE: Don't raise `from err`, see `SchemaValidationError` doc\u001b[39;00m\n\u001b[32m   1166\u001b[39m             \u001b[38;5;28;01mtry\u001b[39;00m:\n",
      "\u001b[32m~/Documents/Projects/python/mortgage-project/mortgage-venv/lib/python3.13/site-packages/altair/utils/schemapi.py\u001b[39m in \u001b[36m?\u001b[39m\u001b[34m(obj, context, np_opt, pd_opt)\u001b[39m\n\u001b[32m    549\u001b[39m         \u001b[38;5;28;01mreturn\u001b[39;00m obj.to_dict(validate=\u001b[38;5;28;01mFalse\u001b[39;00m, context=context)\n\u001b[32m    550\u001b[39m     \u001b[38;5;28;01melif\u001b[39;00m isinstance(obj, (list, tuple)):\n\u001b[32m    551\u001b[39m         \u001b[38;5;28;01mreturn\u001b[39;00m [_todict(v, context, np_opt, pd_opt) \u001b[38;5;28;01mfor\u001b[39;00m v \u001b[38;5;28;01min\u001b[39;00m obj]\n\u001b[32m    552\u001b[39m     \u001b[38;5;28;01melif\u001b[39;00m isinstance(obj, dict):\n\u001b[32m--> \u001b[39m\u001b[32m553\u001b[39m         return {\n\u001b[32m    554\u001b[39m             k: _todict(v, context, np_opt, pd_opt)\n\u001b[32m    555\u001b[39m             \u001b[38;5;28;01mfor\u001b[39;00m k, v \u001b[38;5;28;01min\u001b[39;00m obj.items()\n\u001b[32m    556\u001b[39m             \u001b[38;5;28;01mif\u001b[39;00m v \u001b[38;5;28;01mis\u001b[39;00m \u001b[38;5;28;01mnot\u001b[39;00m Undefined\n",
      "\u001b[32m~/Documents/Projects/python/mortgage-project/mortgage-venv/lib/python3.13/site-packages/altair/utils/schemapi.py\u001b[39m in \u001b[36m?\u001b[39m\u001b[34m(obj, context, np_opt, pd_opt)\u001b[39m\n\u001b[32m    545\u001b[39m                 \u001b[38;5;66;03m# See https://github.com/vega/altair/issues/1027 for why this is necessary.\u001b[39;00m\n\u001b[32m    546\u001b[39m                 result += \u001b[33m\"T00:00:00\"\u001b[39m\n\u001b[32m    547\u001b[39m             \u001b[38;5;28;01mreturn\u001b[39;00m result\n\u001b[32m    548\u001b[39m     \u001b[38;5;28;01mif\u001b[39;00m isinstance(obj, SchemaBase):\n\u001b[32m--> \u001b[39m\u001b[32m549\u001b[39m         \u001b[38;5;28;01mreturn\u001b[39;00m obj.to_dict(validate=\u001b[38;5;28;01mFalse\u001b[39;00m, context=context)\n\u001b[32m    550\u001b[39m     \u001b[38;5;28;01melif\u001b[39;00m isinstance(obj, (list, tuple)):\n\u001b[32m    551\u001b[39m         \u001b[38;5;28;01mreturn\u001b[39;00m [_todict(v, context, np_opt, pd_opt) \u001b[38;5;28;01mfor\u001b[39;00m v \u001b[38;5;28;01min\u001b[39;00m obj]\n\u001b[32m    552\u001b[39m     \u001b[38;5;28;01melif\u001b[39;00m isinstance(obj, dict):\n",
      "\u001b[32m~/Documents/Projects/python/mortgage-project/mortgage-venv/lib/python3.13/site-packages/altair/vegalite/v5/schema/channels.py\u001b[39m in \u001b[36m?\u001b[39m\u001b[34m(self, validate, ignore, context)\u001b[39m\n\u001b[32m    212\u001b[39m                         f\"{shorthand} encoding field is specified without a type; \"\n\u001b[32m    213\u001b[39m                         \u001b[33m\"the type cannot be automatically inferred because \"\u001b[39m\n\u001b[32m    214\u001b[39m                         \u001b[33m\"the data is not specified as a pandas.DataFrame.\"\u001b[39m\n\u001b[32m    215\u001b[39m                     )\n\u001b[32m--> \u001b[39m\u001b[32m216\u001b[39m                     \u001b[38;5;28;01mraise\u001b[39;00m ValueError(msg)\n\u001b[32m    217\u001b[39m         \u001b[38;5;28;01melse\u001b[39;00m:\n\u001b[32m    218\u001b[39m             \u001b[38;5;66;03m# Shorthand is not a string; we pass the definition to field,\u001b[39;00m\n\u001b[32m    219\u001b[39m             \u001b[38;5;66;03m# and do not do any parsing.\u001b[39;00m\n",
      "\u001b[31mValueError\u001b[39m: month encoding field is specified without a type; the type cannot be automatically inferred because the data is not specified as a pandas.DataFrame."
     ]
    },
    {
     "data": {
      "text/plain": [
       "alt.Chart(...)"
      ]
     },
     "execution_count": 13,
     "metadata": {},
     "output_type": "execute_result"
    }
   ],
   "source": [
    "chart.mark_area(\n",
    "    line={'color': 'darkgreen'}\n",
    ").encode(\n",
    "    x='month:T',\n",
    "    y='balance:Q'\n",
    ")"
   ]
  },
  {
   "cell_type": "code",
   "execution_count": null,
   "metadata": {},
   "outputs": [],
   "source": []
  }
 ],
 "metadata": {
  "kernelspec": {
   "display_name": "mortgage-venv",
   "language": "python",
   "name": "python3"
  },
  "language_info": {
   "codemirror_mode": {
    "name": "ipython",
    "version": 3
   },
   "file_extension": ".py",
   "mimetype": "text/x-python",
   "name": "python",
   "nbconvert_exporter": "python",
   "pygments_lexer": "ipython3",
   "version": "3.13.2"
  }
 },
 "nbformat": 4,
 "nbformat_minor": 2
}
